{
 "cells": [
  {
   "cell_type": "code",
   "execution_count": 1,
   "metadata": {},
   "outputs": [
    {
     "ename": "ModuleNotFoundError",
     "evalue": "No module named 'pyspark'",
     "output_type": "error",
     "traceback": [
      "\u001b[1;31m---------------------------------------------------------------------------\u001b[0m",
      "\u001b[1;31mModuleNotFoundError\u001b[0m                       Traceback (most recent call last)",
      "\u001b[1;32m<ipython-input-1-9726fdc1a712>\u001b[0m in \u001b[0;36m<module>\u001b[1;34m\u001b[0m\n\u001b[1;32m----> 1\u001b[1;33m \u001b[1;32mfrom\u001b[0m \u001b[0mpyspark\u001b[0m\u001b[1;33m.\u001b[0m\u001b[0msql\u001b[0m \u001b[1;32mimport\u001b[0m \u001b[0mSparkSession\u001b[0m\u001b[1;33m\u001b[0m\u001b[1;33m\u001b[0m\u001b[0m\n\u001b[0m\u001b[0;32m      2\u001b[0m \u001b[1;32mfrom\u001b[0m \u001b[0mpyspark\u001b[0m\u001b[1;33m.\u001b[0m\u001b[0mml\u001b[0m\u001b[1;33m.\u001b[0m\u001b[0mfeature\u001b[0m \u001b[1;32mimport\u001b[0m \u001b[0mVectorAssembler\u001b[0m\u001b[1;33m\u001b[0m\u001b[1;33m\u001b[0m\u001b[0m\n\u001b[0;32m      3\u001b[0m \u001b[1;32mfrom\u001b[0m \u001b[0mpyspark\u001b[0m\u001b[1;33m.\u001b[0m\u001b[0mml\u001b[0m\u001b[1;33m.\u001b[0m\u001b[0mregression\u001b[0m \u001b[1;32mimport\u001b[0m \u001b[0mLinearRegression\u001b[0m\u001b[1;33m\u001b[0m\u001b[1;33m\u001b[0m\u001b[0m\n\u001b[0;32m      4\u001b[0m \u001b[1;32mimport\u001b[0m \u001b[0mmatplotlib\u001b[0m\u001b[1;33m.\u001b[0m\u001b[0mpyplot\u001b[0m \u001b[1;32mas\u001b[0m \u001b[0mplt\u001b[0m\u001b[1;33m\u001b[0m\u001b[1;33m\u001b[0m\u001b[0m\n\u001b[0;32m      5\u001b[0m \u001b[0mspark\u001b[0m \u001b[1;33m=\u001b[0m \u001b[0mSparkSession\u001b[0m\u001b[1;33m.\u001b[0m\u001b[0mbuilder\u001b[0m\u001b[1;33m.\u001b[0m\u001b[0mappName\u001b[0m\u001b[1;33m(\u001b[0m\u001b[1;34m\"regress_wine_data\"\u001b[0m\u001b[1;33m)\u001b[0m\u001b[1;33m.\u001b[0m\u001b[0mgetOrCreate\u001b[0m\u001b[1;33m(\u001b[0m\u001b[1;33m)\u001b[0m\u001b[1;33m\u001b[0m\u001b[1;33m\u001b[0m\u001b[0m\n",
      "\u001b[1;31mModuleNotFoundError\u001b[0m: No module named 'pyspark'"
     ]
    }
   ],
   "source": [
    "from pyspark.sql import SparkSession\n",
    "from pyspark.ml.feature import VectorAssembler\n",
    "from pyspark.ml.regression import LinearRegression\n",
    "import matplotlib.pyplot as plt\n",
    "spark = SparkSession.builder.appName(\"regress_wine_data\").getOrCreate()\n",
    "#read in abalone data as pandas data frame and create Spark data frame.\n",
    "import pandas as pd\n",
    "from pandas import DataFrame\n",
    "from Read_Fcns import pd_read_wine\n",
    "wine_df = pd_read_wine()\n",
    "#Create spark dataframe for wine data\n",
    "wine_sp_df = spark.createDataFrame(wine_df)\n",
    "print('Column Names', wine_sp_df.columns, '\\n\\n')\n",
    "vectorAssembler = VectorAssembler(inputCols = ['fixed acidity', \\\n",
    "'volatile acidity', 'citric acid', 'residual sugar', 'chlorides', \\\n",
    "'free sulfur dioxide', 'total sulfur dioxide', 'density', 'pH', \\\n",
    "'sulphates', 'alcohol'], outputCol = 'features')\n",
    "v_wine_df = vectorAssembler.transform(wine_sp_df)\n",
    "vwine_df = v_wine_df.select(['features', 'quality'])\n",
    "splits = vwine_df.randomSplit([0.66, 0.34])\n",
    "xTrain_sp = splits[0]\n",
    "xTest_sp = splits[1]\n",
    "alphaList = [0.1**i for i in [0,1, 2, 3, 4, 5, 6]]\n",
    "rmsError = []\n"
   ]
  },
  {
   "cell_type": "code",
   "execution_count": null,
   "metadata": {},
   "outputs": [],
   "source": [
    "for alph in alphaList:\n",
    "    wine_ridge_sp = LinearRegression(featuresCol = 'features', abelCol='quality', maxIter=100, regParam=alph, elasticNetParam=0.0)\n",
    "    wine_ridge_sp_model = wine_ridge_sp.fit(xTrain_sp)\n",
    "    test_result = wine_ridge_sp_model.evaluate(xTest_sp)\n",
    "    rmsError.append(test_result.rootMeanSquaredError)\n",
    "print('{:18}'.format(\"RMS Error\"), \"alpha\")\n",
    "for i in range(len(rmsError)):\n",
    "    print(rmsError[i], alphaList[i])\n",
    "#plot curve of out-of-sample error versus alpha\n",
    "x = range(len(rmsError))\n",
    "plt.plot(x, rmsError, 'k')\n",
    "plt.xlabel('-log(alpha)')\n",
    "plt.ylabel('Error (RMS)')\n",
    "plt.savefig('linear_regression_w_spark.png', dpi=500)\n",
    "plt.show()"
   ]
  }
 ],
 "metadata": {
  "kernelspec": {
   "display_name": "Python 3",
   "language": "python",
   "name": "python3"
  },
  "language_info": {
   "codemirror_mode": {
    "name": "ipython",
    "version": 3
   },
   "file_extension": ".py",
   "mimetype": "text/x-python",
   "name": "python",
   "nbconvert_exporter": "python",
   "pygments_lexer": "ipython3",
   "version": "3.7.6"
  }
 },
 "nbformat": 4,
 "nbformat_minor": 4
}
